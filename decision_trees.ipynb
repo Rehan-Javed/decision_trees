{
 "cells": [
  {
   "cell_type": "code",
   "execution_count": 2,
   "id": "42b23816-b9e5-45e9-ae1a-2d4e0765425f",
   "metadata": {},
   "outputs": [],
   "source": [
    "import pandas as pd\n",
    "import math"
   ]
  },
  {
   "cell_type": "code",
   "execution_count": 6,
   "id": "7b5fe2f6-e905-4ea7-8add-0ad5f0e7a969",
   "metadata": {},
   "outputs": [],
   "source": [
    "def gini(samples):\n",
    "    samples_sum = sum(samples)\n",
    "    score=0\n",
    "    probas = []\n",
    "    for sample in samples:\n",
    "        proba = sample / samples_sum\n",
    "        probas.append(proba)\n",
    "    for proba in probas:\n",
    "        score += proba * (1 - proba)\n",
    "    return score"
   ]
  },
  {
   "cell_type": "code",
   "execution_count": 8,
   "id": "1f5f5b29-ad1f-4284-b373-7fd9ebf92d57",
   "metadata": {},
   "outputs": [
    {
     "data": {
      "text/plain": [
       "0.5"
      ]
     },
     "execution_count": 8,
     "metadata": {},
     "output_type": "execute_result"
    }
   ],
   "source": [
    "samples = [100, 100]\n",
    "gini(samples)"
   ]
  }
 ],
 "metadata": {
  "kernelspec": {
   "display_name": "Python 3 (ipykernel)",
   "language": "python",
   "name": "python3"
  },
  "language_info": {
   "codemirror_mode": {
    "name": "ipython",
    "version": 3
   },
   "file_extension": ".py",
   "mimetype": "text/x-python",
   "name": "python",
   "nbconvert_exporter": "python",
   "pygments_lexer": "ipython3",
   "version": "3.8.13"
  }
 },
 "nbformat": 4,
 "nbformat_minor": 5
}
