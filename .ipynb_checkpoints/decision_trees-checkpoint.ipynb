{
 "cells": [
  {
   "cell_type": "code",
   "execution_count": 2,
   "id": "42b23816-b9e5-45e9-ae1a-2d4e0765425f",
   "metadata": {},
   "outputs": [],
   "source": [
    "import pandas as pd\n",
    "import math"
   ]
  },
  {
   "cell_type": "code",
   "execution_count": 17,
   "id": "7b5fe2f6-e905-4ea7-8add-0ad5f0e7a969",
   "metadata": {},
   "outputs": [],
   "source": [
    "def gini_ab(samples):\n",
    "    samples_sum = sum(samples)\n",
    "    score=0\n",
    "    probas = []\n",
    "    for sample in samples:\n",
    "        proba = sample / samples_sum\n",
    "        probas.append(proba)\n",
    "    for proba in probas:\n",
    "        score += proba * (1 - proba)\n",
    "    return score"
   ]
  },
  {
   "cell_type": "code",
   "execution_count": 18,
   "id": "3c95c11e-3fc2-4cbe-8c6d-3615c86933d1",
   "metadata": {},
   "outputs": [],
   "source": [
    "def gini(samples):\n",
    "    samples_sum = sum(samples)\n",
    "    score=0\n",
    "    probas = []\n",
    "    score = []\n",
    "    for sample in samples:\n",
    "        proba = sample / samples_sum\n",
    "        probas.append(proba)\n",
    "    for proba in probas:\n",
    "        score.append( proba * (1 - proba))\n",
    "    return sum(score)\n"
   ]
  },
  {
   "cell_type": "code",
   "execution_count": 20,
   "id": "37550933-3d7b-4ab2-9c4c-c4ecc15390d6",
   "metadata": {},
   "outputs": [],
   "source": [
    "def entropy(samples):\n",
    "    samples_sum = sum(samples)\n",
    "    score=0\n",
    "    probas = []\n",
    "    for sample in samples:\n",
    "        proba = sample / samples_sum\n",
    "        probas.append(proba)\n",
    "    for proba in probas:\n",
    "        if proba > 0:\n",
    "            score += proba * math.log(proba)\n",
    "    return (-1 * score)"
   ]
  },
  {
   "cell_type": "code",
   "execution_count": 22,
   "id": "8b536d76-d6d2-445b-98f9-5b1ab59df739",
   "metadata": {},
   "outputs": [],
   "source": [
    "samples = [100, 75, 125]"
   ]
  },
  {
   "cell_type": "code",
   "execution_count": 23,
   "id": "1f5f5b29-ad1f-4284-b373-7fd9ebf92d57",
   "metadata": {},
   "outputs": [
    {
     "data": {
      "text/plain": [
       "(0.6527777777777777, 1.0775563270668007)"
      ]
     },
     "execution_count": 23,
     "metadata": {},
     "output_type": "execute_result"
    }
   ],
   "source": [
    "gini(samples), entropy(samples)"
   ]
  },
  {
   "cell_type": "code",
   "execution_count": 35,
   "id": "d83e0cd2-9429-41ee-91f2-0329e305421c",
   "metadata": {},
   "outputs": [],
   "source": [
    "data = pd.read_csv('titanic.csv')"
   ]
  },
  {
   "cell_type": "code",
   "execution_count": 36,
   "id": "420d5541-9e63-4a21-a2d3-79701c2adb5a",
   "metadata": {},
   "outputs": [
    {
     "data": {
      "text/html": [
       "<div>\n",
       "<style scoped>\n",
       "    .dataframe tbody tr th:only-of-type {\n",
       "        vertical-align: middle;\n",
       "    }\n",
       "\n",
       "    .dataframe tbody tr th {\n",
       "        vertical-align: top;\n",
       "    }\n",
       "\n",
       "    .dataframe thead th {\n",
       "        text-align: right;\n",
       "    }\n",
       "</style>\n",
       "<table border=\"1\" class=\"dataframe\">\n",
       "  <thead>\n",
       "    <tr style=\"text-align: right;\">\n",
       "      <th></th>\n",
       "      <th>PassengerId</th>\n",
       "      <th>Survived</th>\n",
       "      <th>Pclass</th>\n",
       "      <th>Name</th>\n",
       "      <th>Sex</th>\n",
       "      <th>Age</th>\n",
       "      <th>SibSp</th>\n",
       "      <th>Parch</th>\n",
       "      <th>Ticket</th>\n",
       "      <th>Fare</th>\n",
       "      <th>Cabin</th>\n",
       "      <th>Embarked</th>\n",
       "    </tr>\n",
       "  </thead>\n",
       "  <tbody>\n",
       "    <tr>\n",
       "      <th>0</th>\n",
       "      <td>1</td>\n",
       "      <td>0</td>\n",
       "      <td>3</td>\n",
       "      <td>Braund, Mr. Owen Harris</td>\n",
       "      <td>male</td>\n",
       "      <td>22.0</td>\n",
       "      <td>1</td>\n",
       "      <td>0</td>\n",
       "      <td>A/5 21171</td>\n",
       "      <td>7.2500</td>\n",
       "      <td>NaN</td>\n",
       "      <td>S</td>\n",
       "    </tr>\n",
       "    <tr>\n",
       "      <th>1</th>\n",
       "      <td>2</td>\n",
       "      <td>1</td>\n",
       "      <td>1</td>\n",
       "      <td>Cumings, Mrs. John Bradley (Florence Briggs Th...</td>\n",
       "      <td>female</td>\n",
       "      <td>38.0</td>\n",
       "      <td>1</td>\n",
       "      <td>0</td>\n",
       "      <td>PC 17599</td>\n",
       "      <td>71.2833</td>\n",
       "      <td>C85</td>\n",
       "      <td>C</td>\n",
       "    </tr>\n",
       "  </tbody>\n",
       "</table>\n",
       "</div>"
      ],
      "text/plain": [
       "   PassengerId  Survived  Pclass  \\\n",
       "0            1         0       3   \n",
       "1            2         1       1   \n",
       "\n",
       "                                                Name     Sex   Age  SibSp  \\\n",
       "0                            Braund, Mr. Owen Harris    male  22.0      1   \n",
       "1  Cumings, Mrs. John Bradley (Florence Briggs Th...  female  38.0      1   \n",
       "\n",
       "   Parch     Ticket     Fare Cabin Embarked  \n",
       "0      0  A/5 21171   7.2500   NaN        S  \n",
       "1      0   PC 17599  71.2833   C85        C  "
      ]
     },
     "execution_count": 36,
     "metadata": {},
     "output_type": "execute_result"
    }
   ],
   "source": [
    "data.head(2)"
   ]
  },
  {
   "cell_type": "code",
   "execution_count": 37,
   "id": "57feb1e8-5baa-4c0c-ac76-b35eab41c07b",
   "metadata": {},
   "outputs": [],
   "source": [
    "data = data[[\"Survived\", \"Pclass\", \"Sex\"]]"
   ]
  },
  {
   "cell_type": "code",
   "execution_count": 38,
   "id": "0a0d845f-a036-4162-85e8-16263f4381b1",
   "metadata": {},
   "outputs": [
    {
     "data": {
      "text/html": [
       "<div>\n",
       "<style scoped>\n",
       "    .dataframe tbody tr th:only-of-type {\n",
       "        vertical-align: middle;\n",
       "    }\n",
       "\n",
       "    .dataframe tbody tr th {\n",
       "        vertical-align: top;\n",
       "    }\n",
       "\n",
       "    .dataframe thead th {\n",
       "        text-align: right;\n",
       "    }\n",
       "</style>\n",
       "<table border=\"1\" class=\"dataframe\">\n",
       "  <thead>\n",
       "    <tr style=\"text-align: right;\">\n",
       "      <th></th>\n",
       "      <th>Survived</th>\n",
       "      <th>Pclass</th>\n",
       "      <th>Sex</th>\n",
       "    </tr>\n",
       "  </thead>\n",
       "  <tbody>\n",
       "    <tr>\n",
       "      <th>0</th>\n",
       "      <td>0</td>\n",
       "      <td>3</td>\n",
       "      <td>male</td>\n",
       "    </tr>\n",
       "    <tr>\n",
       "      <th>1</th>\n",
       "      <td>1</td>\n",
       "      <td>1</td>\n",
       "      <td>female</td>\n",
       "    </tr>\n",
       "    <tr>\n",
       "      <th>2</th>\n",
       "      <td>1</td>\n",
       "      <td>3</td>\n",
       "      <td>female</td>\n",
       "    </tr>\n",
       "    <tr>\n",
       "      <th>3</th>\n",
       "      <td>1</td>\n",
       "      <td>1</td>\n",
       "      <td>female</td>\n",
       "    </tr>\n",
       "    <tr>\n",
       "      <th>4</th>\n",
       "      <td>0</td>\n",
       "      <td>3</td>\n",
       "      <td>male</td>\n",
       "    </tr>\n",
       "  </tbody>\n",
       "</table>\n",
       "</div>"
      ],
      "text/plain": [
       "   Survived  Pclass     Sex\n",
       "0         0       3    male\n",
       "1         1       1  female\n",
       "2         1       3  female\n",
       "3         1       1  female\n",
       "4         0       3    male"
      ]
     },
     "execution_count": 38,
     "metadata": {},
     "output_type": "execute_result"
    }
   ],
   "source": [
    "df.head()"
   ]
  },
  {
   "cell_type": "code",
   "execution_count": 39,
   "id": "f8cddf62-2b13-47e9-9990-534f6da0f445",
   "metadata": {},
   "outputs": [],
   "source": [
    "sex_mapping = {\n",
    "    \"female\" : 0,\n",
    "    \"male\" : 1\n",
    "}\n",
    "data.Sex = data.Sex.map(sex_mapping)"
   ]
  },
  {
   "cell_type": "code",
   "execution_count": 40,
   "id": "fb548823-a672-4921-9b4e-b1e653775373",
   "metadata": {},
   "outputs": [
    {
     "data": {
      "text/html": [
       "<div>\n",
       "<style scoped>\n",
       "    .dataframe tbody tr th:only-of-type {\n",
       "        vertical-align: middle;\n",
       "    }\n",
       "\n",
       "    .dataframe tbody tr th {\n",
       "        vertical-align: top;\n",
       "    }\n",
       "\n",
       "    .dataframe thead th {\n",
       "        text-align: right;\n",
       "    }\n",
       "</style>\n",
       "<table border=\"1\" class=\"dataframe\">\n",
       "  <thead>\n",
       "    <tr style=\"text-align: right;\">\n",
       "      <th></th>\n",
       "      <th>Survived</th>\n",
       "      <th>Pclass</th>\n",
       "      <th>Sex</th>\n",
       "    </tr>\n",
       "  </thead>\n",
       "  <tbody>\n",
       "    <tr>\n",
       "      <th>0</th>\n",
       "      <td>0</td>\n",
       "      <td>3</td>\n",
       "      <td>1</td>\n",
       "    </tr>\n",
       "    <tr>\n",
       "      <th>1</th>\n",
       "      <td>1</td>\n",
       "      <td>1</td>\n",
       "      <td>0</td>\n",
       "    </tr>\n",
       "    <tr>\n",
       "      <th>2</th>\n",
       "      <td>1</td>\n",
       "      <td>3</td>\n",
       "      <td>0</td>\n",
       "    </tr>\n",
       "    <tr>\n",
       "      <th>3</th>\n",
       "      <td>1</td>\n",
       "      <td>1</td>\n",
       "      <td>0</td>\n",
       "    </tr>\n",
       "    <tr>\n",
       "      <th>4</th>\n",
       "      <td>0</td>\n",
       "      <td>3</td>\n",
       "      <td>1</td>\n",
       "    </tr>\n",
       "  </tbody>\n",
       "</table>\n",
       "</div>"
      ],
      "text/plain": [
       "   Survived  Pclass  Sex\n",
       "0         0       3    1\n",
       "1         1       1    0\n",
       "2         1       3    0\n",
       "3         1       1    0\n",
       "4         0       3    1"
      ]
     },
     "execution_count": 40,
     "metadata": {},
     "output_type": "execute_result"
    }
   ],
   "source": [
    "data.head()"
   ]
  },
  {
   "cell_type": "markdown",
   "id": "a0677642-c24f-47ea-91b3-ec054f5426b5",
   "metadata": {},
   "source": [
    "#### We are continuing with gini today with this example"
   ]
  },
  {
   "cell_type": "code",
   "execution_count": 41,
   "id": "55c06462-a7bd-47b1-be25-60a91e50b98c",
   "metadata": {},
   "outputs": [
    {
     "data": {
      "text/plain": [
       "3    491\n",
       "1    216\n",
       "2    184\n",
       "Name: Pclass, dtype: int64"
      ]
     },
     "execution_count": 41,
     "metadata": {},
     "output_type": "execute_result"
    }
   ],
   "source": [
    "data.Pclass.value_counts()"
   ]
  },
  {
   "cell_type": "code",
   "execution_count": 42,
   "id": "c9e5c6bb-e94e-4c1a-9302-3afef3e91f62",
   "metadata": {},
   "outputs": [
    {
     "data": {
      "text/plain": [
       "0    549\n",
       "1    342\n",
       "Name: Survived, dtype: int64"
      ]
     },
     "execution_count": 42,
     "metadata": {},
     "output_type": "execute_result"
    }
   ],
   "source": [
    "data.Survived.value_counts()"
   ]
  },
  {
   "cell_type": "markdown",
   "id": "f1054621-90ff-44bb-919f-ad1d13b55da8",
   "metadata": {},
   "source": [
    "### gini for whole survived column is "
   ]
  },
  {
   "cell_type": "code",
   "execution_count": 70,
   "id": "1df5f61e-269f-4c2f-b94d-e673c3bbc43f",
   "metadata": {},
   "outputs": [
    {
     "data": {
      "text/plain": [
       "0    549\n",
       "1    342\n",
       "Name: Survived, dtype: int64"
      ]
     },
     "execution_count": 70,
     "metadata": {},
     "output_type": "execute_result"
    }
   ],
   "source": [
    "data.Survived.value_counts()"
   ]
  },
  {
   "cell_type": "markdown",
   "id": "9d4a2514-c60d-4ce4-b8eb-4bfe41376381",
   "metadata": {},
   "source": [
    "### Lets make a function which will give us the the values of class in the form : (not survived, survived) = ( 0, 1 )\n",
    "\n",
    "This is necessary because value_counts( ) gives the class values in form of ascending order of numbers rather than the class type"
   ]
  },
  {
   "cell_type": "code",
   "execution_count": 118,
   "id": "21fb28ab-2ae5-4c23-800b-694b91423f0d",
   "metadata": {},
   "outputs": [],
   "source": [
    "def prob_calc(df):\n",
    "    not_survived = df.Survived.value_counts()[0]\n",
    "    survived = df.Survived.value_counts()[1]\n",
    "    passed_list = []\n",
    "    passed_list.append(not_survived)\n",
    "    passed_list.append(survived)\n",
    "    return passed_list\n",
    "    "
   ]
  },
  {
   "cell_type": "code",
   "execution_count": 119,
   "id": "178d6d87-3a22-4f8f-9d2c-711ce627062a",
   "metadata": {},
   "outputs": [
    {
     "data": {
      "text/plain": [
       "[549, 342]"
      ]
     },
     "execution_count": 119,
     "metadata": {},
     "output_type": "execute_result"
    }
   ],
   "source": [
    "prob_calc (data)"
   ]
  },
  {
   "cell_type": "code",
   "execution_count": 120,
   "id": "b08f1daa-8dc2-4fbb-a864-84acfbf911a5",
   "metadata": {},
   "outputs": [],
   "source": [
    "proba_full_df = prob_calc(data)"
   ]
  },
  {
   "cell_type": "code",
   "execution_count": 121,
   "id": "cb8d68fb-2223-4235-a5ce-fdb8a8ff48ba",
   "metadata": {},
   "outputs": [
    {
     "data": {
      "text/plain": [
       "0.4730129578614427"
      ]
     },
     "execution_count": 121,
     "metadata": {},
     "output_type": "execute_result"
    }
   ],
   "source": [
    "gini(proba_full_df)"
   ]
  },
  {
   "cell_type": "markdown",
   "id": "37d47941-ecbe-4f93-82e5-8b6189cb2374",
   "metadata": {},
   "source": [
    "## First Node"
   ]
  },
  {
   "cell_type": "markdown",
   "id": "9d703750-cb47-4c6d-9bb7-42e87162e85d",
   "metadata": {},
   "source": [
    "Now lets see for pclass first condition where Pclass <= 1.5"
   ]
  },
  {
   "cell_type": "markdown",
   "id": "439ca44c-8fa8-44c2-a484-b4d6125d7a22",
   "metadata": {},
   "source": [
    "### True Condition"
   ]
  },
  {
   "cell_type": "code",
   "execution_count": 115,
   "id": "955ab795-cc1c-412d-8ab4-3891bce6ef51",
   "metadata": {},
   "outputs": [],
   "source": [
    "pclass_1_true = data[data.Pclass <= 1.5]"
   ]
  },
  {
   "cell_type": "code",
   "execution_count": 156,
   "id": "e314e47f-72c3-42c6-8d94-4cbd3624a139",
   "metadata": {},
   "outputs": [
    {
     "data": {
      "text/plain": [
       "216"
      ]
     },
     "execution_count": 156,
     "metadata": {},
     "output_type": "execute_result"
    }
   ],
   "source": [
    "# No of samples\n",
    "no_pclass_1_true = pclass_1_true.shape[0]\n",
    "no_pclass_1_true"
   ]
  },
  {
   "cell_type": "code",
   "execution_count": 160,
   "id": "90af9f25-de19-4376-90b7-93d42fb32211",
   "metadata": {},
   "outputs": [
    {
     "data": {
      "text/plain": [
       "[80, 136]"
      ]
     },
     "execution_count": 160,
     "metadata": {},
     "output_type": "execute_result"
    }
   ],
   "source": [
    "proba_pclass_1_true = prob_calc(pclass_1_true)\n",
    "proba_pclass_1_true"
   ]
  },
  {
   "cell_type": "code",
   "execution_count": 161,
   "id": "58cfa359-1e63-4ac7-95e3-0b91608d3424",
   "metadata": {},
   "outputs": [
    {
     "data": {
      "text/plain": [
       "0.4663923182441701"
      ]
     },
     "execution_count": 161,
     "metadata": {},
     "output_type": "execute_result"
    }
   ],
   "source": [
    "gini_pclass_1_true = gini(proba_pclass_1_true)\n",
    "gini_pclass_1_true"
   ]
  },
  {
   "cell_type": "markdown",
   "id": "2dc67012-0de1-44b0-b194-e42488fb47c0",
   "metadata": {},
   "source": [
    "### False Condition"
   ]
  },
  {
   "cell_type": "code",
   "execution_count": 122,
   "id": "8281ce2b-fec0-4479-a6a2-e0a6fbcc3ef9",
   "metadata": {},
   "outputs": [],
   "source": [
    "pclass_1_false = data[data.Pclass > 1.5]"
   ]
  },
  {
   "cell_type": "code",
   "execution_count": 162,
   "id": "76f32e74-72ff-4e9b-a33b-d29aea2cc309",
   "metadata": {},
   "outputs": [
    {
     "data": {
      "text/plain": [
       "675"
      ]
     },
     "execution_count": 162,
     "metadata": {},
     "output_type": "execute_result"
    }
   ],
   "source": [
    "# No of samples\n",
    "no_pclass_1_false = pclass_1_false.shape[0]\n",
    "no_pclass_1_false"
   ]
  },
  {
   "cell_type": "code",
   "execution_count": 163,
   "id": "c1001058-e884-4abf-8c11-7443ddf138d5",
   "metadata": {},
   "outputs": [
    {
     "data": {
      "text/plain": [
       "[469, 206]"
      ]
     },
     "execution_count": 163,
     "metadata": {},
     "output_type": "execute_result"
    }
   ],
   "source": [
    "prob_pclass_1_false = prob_calc(pclass_1_false)\n",
    "prob_pclass_1_false"
   ]
  },
  {
   "cell_type": "code",
   "execution_count": 154,
   "id": "12d51b74-4a01-4e93-a82d-c559efef006e",
   "metadata": {},
   "outputs": [
    {
     "data": {
      "text/plain": [
       "0.4240943758573388"
      ]
     },
     "execution_count": 154,
     "metadata": {},
     "output_type": "execute_result"
    }
   ],
   "source": [
    "gini_pclass_1_false = gini(proba_pclass_1_false)\n",
    "gini_pclass_1_false"
   ]
  },
  {
   "cell_type": "markdown",
   "id": "9b950cb2-2383-4a16-9be8-4f3c65c661af",
   "metadata": {},
   "source": [
    "#### Weighted Average of Gini for Node 1"
   ]
  },
  {
   "cell_type": "code",
   "execution_count": 164,
   "id": "b87b27e5-6718-4818-ae14-a4ffb4904c41",
   "metadata": {},
   "outputs": [
    {
     "data": {
      "text/plain": [
       "0.4343484224965707"
      ]
     },
     "execution_count": 164,
     "metadata": {},
     "output_type": "execute_result"
    }
   ],
   "source": [
    "((gini_pclass_1_true * no_pclass_1_true) + (gini_pclass_1_false * no_pclass_1_false)) / (no_pclass_1_true + no_pclass_1_false)"
   ]
  },
  {
   "cell_type": "markdown",
   "id": "9c92af38-0d07-4392-88d4-b6fa641cc329",
   "metadata": {},
   "source": [
    "## Second Node"
   ]
  },
  {
   "cell_type": "markdown",
   "id": "1693d178-304f-4b33-9c95-e97ff64dbc60",
   "metadata": {},
   "source": [
    "### True Condition"
   ]
  },
  {
   "cell_type": "code",
   "execution_count": 129,
   "id": "bb72920b-d21b-42a6-abff-101046c8a00e",
   "metadata": {},
   "outputs": [],
   "source": [
    "pclass_2_true = data[data.Pclass <= 2.5]"
   ]
  },
  {
   "cell_type": "code",
   "execution_count": 130,
   "id": "f981da89-21b0-4daa-9465-9d4fb0f8e6a2",
   "metadata": {},
   "outputs": [
    {
     "data": {
      "text/plain": [
       "[177, 223]"
      ]
     },
     "execution_count": 130,
     "metadata": {},
     "output_type": "execute_result"
    }
   ],
   "source": [
    "prob_calc(pclass_2_true)"
   ]
  },
  {
   "cell_type": "code",
   "execution_count": 132,
   "id": "a765e91f-2e96-4307-b8e1-9423bc61f680",
   "metadata": {},
   "outputs": [],
   "source": [
    "proba_pclass_2_true = prob_calc(pclass_2_true)"
   ]
  },
  {
   "cell_type": "code",
   "execution_count": 133,
   "id": "84898134-5530-4d6e-a92a-52a5c3f64afc",
   "metadata": {},
   "outputs": [
    {
     "data": {
      "text/plain": [
       "0.4933875"
      ]
     },
     "execution_count": 133,
     "metadata": {},
     "output_type": "execute_result"
    }
   ],
   "source": [
    "gini(proba_pclass_2_true)"
   ]
  },
  {
   "cell_type": "code",
   "execution_count": null,
   "id": "157085cf-98fe-45db-84eb-9d4ac1743cb0",
   "metadata": {},
   "outputs": [],
   "source": []
  },
  {
   "cell_type": "markdown",
   "id": "b2866a10-dc4d-4459-b9ab-ebe8ce950fbc",
   "metadata": {},
   "source": [
    "### False Condition"
   ]
  },
  {
   "cell_type": "code",
   "execution_count": 134,
   "id": "0dd37259-a2a3-4f6d-bcd6-2ec4b57bd955",
   "metadata": {},
   "outputs": [],
   "source": [
    "pclass_2_false = data[data.Pclass > 2.5]"
   ]
  },
  {
   "cell_type": "code",
   "execution_count": 135,
   "id": "6f72d7e7-5b64-4528-8b75-f0a6f056598b",
   "metadata": {},
   "outputs": [
    {
     "data": {
      "text/plain": [
       "[372, 119]"
      ]
     },
     "execution_count": 135,
     "metadata": {},
     "output_type": "execute_result"
    }
   ],
   "source": [
    "prob_calc(pclass_2_false)"
   ]
  },
  {
   "cell_type": "code",
   "execution_count": 136,
   "id": "80035534-dfe8-485c-8cd1-760a54fa0ba3",
   "metadata": {},
   "outputs": [],
   "source": [
    "proba_pclass_2_false = prob_calc(pclass_2_false)"
   ]
  },
  {
   "cell_type": "code",
   "execution_count": 137,
   "id": "be683dea-2c28-486f-b9ce-be13ed7ab4b0",
   "metadata": {},
   "outputs": [
    {
     "data": {
      "text/plain": [
       "0.36724586342349663"
      ]
     },
     "execution_count": 137,
     "metadata": {},
     "output_type": "execute_result"
    }
   ],
   "source": [
    "gini(proba_pclass_2_false)"
   ]
  },
  {
   "cell_type": "code",
   "execution_count": null,
   "id": "8d06c77b-95d8-43d8-b9dc-83c76d6994be",
   "metadata": {},
   "outputs": [],
   "source": []
  },
  {
   "cell_type": "markdown",
   "id": "1f3c319c-aaef-4c1b-bb4c-93015d288ac7",
   "metadata": {},
   "source": [
    "#### Total Gini for Node 2"
   ]
  },
  {
   "cell_type": "code",
   "execution_count": 147,
   "id": "bc6dc851-94c9-4228-86f8-97c5b0b80cae",
   "metadata": {},
   "outputs": [
    {
     "data": {
      "text/plain": [
       "0.43025"
      ]
     },
     "execution_count": 147,
     "metadata": {},
     "output_type": "execute_result"
    }
   ],
   "source": [
    "(0.4933 + 0.3672 ) /2"
   ]
  },
  {
   "cell_type": "markdown",
   "id": "c706cd4c-d4cb-46f3-981a-c5ec419781f8",
   "metadata": {},
   "source": [
    "## Third Node"
   ]
  },
  {
   "cell_type": "code",
   "execution_count": null,
   "id": "71082581-c74b-475e-a8bf-86f23b8a6434",
   "metadata": {},
   "outputs": [],
   "source": []
  },
  {
   "cell_type": "code",
   "execution_count": null,
   "id": "864ca77e-e020-4ea2-8513-42032deaee10",
   "metadata": {},
   "outputs": [],
   "source": []
  },
  {
   "cell_type": "markdown",
   "id": "cb4e86c9-6c07-4a24-8d8b-2c402dd7f9c1",
   "metadata": {},
   "source": [
    "### True Condition"
   ]
  },
  {
   "cell_type": "code",
   "execution_count": 138,
   "id": "dde0fd94-02de-47e6-9b10-34db4740b258",
   "metadata": {},
   "outputs": [],
   "source": [
    "sex_3_true = data[data.Sex <= 0.5]"
   ]
  },
  {
   "cell_type": "code",
   "execution_count": 139,
   "id": "491a5f97-b4a2-4266-8a4b-6d868f299ac4",
   "metadata": {},
   "outputs": [
    {
     "data": {
      "text/plain": [
       "[81, 233]"
      ]
     },
     "execution_count": 139,
     "metadata": {},
     "output_type": "execute_result"
    }
   ],
   "source": [
    "prob_calc(sex_3_true)"
   ]
  },
  {
   "cell_type": "code",
   "execution_count": 140,
   "id": "d476c495-8005-4224-992d-027777c91479",
   "metadata": {},
   "outputs": [],
   "source": [
    "proba_sex_3_true = prob_calc(sex_3_true)"
   ]
  },
  {
   "cell_type": "code",
   "execution_count": 141,
   "id": "26a2a3cf-d406-4117-8896-93cb94377b8a",
   "metadata": {},
   "outputs": [
    {
     "data": {
      "text/plain": [
       "0.38283500344841576"
      ]
     },
     "execution_count": 141,
     "metadata": {},
     "output_type": "execute_result"
    }
   ],
   "source": [
    "gini(proba_sex_3_true)"
   ]
  },
  {
   "cell_type": "code",
   "execution_count": null,
   "id": "07d9ef9c-6703-44cc-abbc-a02a27bb787b",
   "metadata": {},
   "outputs": [],
   "source": []
  },
  {
   "cell_type": "markdown",
   "id": "ed4744ef-3781-4ddf-8e36-abb299a5250b",
   "metadata": {},
   "source": [
    "### False Condition"
   ]
  },
  {
   "cell_type": "code",
   "execution_count": 142,
   "id": "5a0885ef-e02e-4e51-bfd2-22041062ae60",
   "metadata": {},
   "outputs": [],
   "source": [
    "sex_3_false = data[data.Sex > 0.5]"
   ]
  },
  {
   "cell_type": "code",
   "execution_count": 143,
   "id": "31c1a117-3d11-483d-b3b2-be4b0bf44b8f",
   "metadata": {},
   "outputs": [
    {
     "data": {
      "text/plain": [
       "[468, 109]"
      ]
     },
     "execution_count": 143,
     "metadata": {},
     "output_type": "execute_result"
    }
   ],
   "source": [
    "prob_calc(sex_3_false)"
   ]
  },
  {
   "cell_type": "code",
   "execution_count": 144,
   "id": "aae211ce-5fd4-4d1d-99c0-2f8bf846b5ad",
   "metadata": {},
   "outputs": [],
   "source": [
    "proba_sex_3_false = prob_calc(sex_3_false)"
   ]
  },
  {
   "cell_type": "code",
   "execution_count": 145,
   "id": "333500ce-2ede-487e-9629-7345cac07737",
   "metadata": {},
   "outputs": [
    {
     "data": {
      "text/plain": [
       "0.3064437162277843"
      ]
     },
     "execution_count": 145,
     "metadata": {},
     "output_type": "execute_result"
    }
   ],
   "source": [
    "gini(proba_sex_3_false)"
   ]
  },
  {
   "cell_type": "code",
   "execution_count": null,
   "id": "59eee9a6-b39f-452c-86bf-c111b3c3e929",
   "metadata": {},
   "outputs": [],
   "source": []
  },
  {
   "cell_type": "markdown",
   "id": "6611c436-c6b3-4717-b464-f296ef56e05b",
   "metadata": {},
   "source": [
    "#### Total Gini for Node 3"
   ]
  },
  {
   "cell_type": "code",
   "execution_count": 148,
   "id": "cc81903c-0c68-41dc-acfc-f8d1a4476588",
   "metadata": {},
   "outputs": [
    {
     "data": {
      "text/plain": [
       "0.3444"
      ]
     },
     "execution_count": 148,
     "metadata": {},
     "output_type": "execute_result"
    }
   ],
   "source": [
    "(0.3828 + 0.306) / 2"
   ]
  }
 ],
 "metadata": {
  "kernelspec": {
   "display_name": "Python 3 (ipykernel)",
   "language": "python",
   "name": "python3"
  },
  "language_info": {
   "codemirror_mode": {
    "name": "ipython",
    "version": 3
   },
   "file_extension": ".py",
   "mimetype": "text/x-python",
   "name": "python",
   "nbconvert_exporter": "python",
   "pygments_lexer": "ipython3",
   "version": "3.8.13"
  }
 },
 "nbformat": 4,
 "nbformat_minor": 5
}
